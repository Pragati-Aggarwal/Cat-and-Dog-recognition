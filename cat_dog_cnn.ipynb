{
 "cells": [
  {
   "cell_type": "code",
   "execution_count": null,
   "id": "7c02cd65",
   "metadata": {},
   "outputs": [],
   "source": [
    "import os\n",
    "import matplotlib.pyplot as plt\n",
    "import matplotlib.image as mpimg\n",
    "\n",
    "\n",
    "cat_dir = os.path.join('cat_dog/train/cats') \n",
    "dog_dir = os.path.join('cat_dog/train/dogs')\n",
    "cat_names = os.listdir(cat_dir)\n",
    "dog_names = os.listdir(dog_dir)\n",
    "\n",
    "pic_index = 210\n",
    "\n",
    "cat_images = [os.path.join(cat_dir, fname)\n",
    "              for fname in cat_names[pic_index-8:pic_index]]\n",
    "dog_images = [os.path.join(dog_dir, fname)\n",
    "              for fname in dog_names[pic_index-8:pic_index]]\n",
    "\n",
    "for i, img_path in enumerate(cat_images + dog_images):\n",
    "    sp = plt.subplot(4, 4, i+1)\n",
    "    sp.axis('Off')\n",
    "\n",
    "    img = mpimg.imread(img_path)\n",
    "    plt.imshow(img)\n",
    "\n",
    "plt.show()"
   ]
  },
  {
   "cell_type": "markdown",
   "id": "222df1d5",
   "metadata": {},
   "source": [
    "Splitting the data into training and testing sets Model training"
   ]
  },
  {
   "cell_type": "code",
   "execution_count": null,
   "id": "343ccdb8",
   "metadata": {},
   "outputs": [],
   "source": [
    "from tensorflow.keras.utils import image_dataset_from_directory\n",
    "from tensorflow.keras.preprocessing.image import ImageDataGenerator, load_img\n",
    "\n",
    "\n",
    "base_dir_training = 'cat_dog/train'\n",
    "\n",
    "train_datagen = image_dataset_from_directory(base_dir_training,\n",
    "                                                  image_size=(200,200),\n",
    "                                                  seed = 1,\n",
    "                                                  batch_size= 32)\n",
    "base_dir_test = 'cat_dog/test'\n",
    "test_datagen = image_dataset_from_directory(base_dir_test,\n",
    "                                                  image_size=(200,200),\n",
    "                                                  seed = 1,\n",
    "                                                  batch_size= 32)"
   ]
  },
  {
   "cell_type": "markdown",
   "id": "2796f2f2",
   "metadata": {},
   "source": [
    "Creating model"
   ]
  },
  {
   "cell_type": "code",
   "execution_count": null,
   "id": "7c1a2636",
   "metadata": {},
   "outputs": [],
   "source": [
    "import tensorflow as tf\n",
    "\n",
    "model = tf.keras.models.Sequential([\n",
    "    tf.keras.layers.Conv2D(32, (3, 3), activation='relu', input_shape=(200, 200, 3)),\n",
    "    tf.keras.layers.MaxPooling2D(2, 2),\n",
    "    tf.keras.layers.Conv2D(64, (3, 3), activation='relu'),\n",
    "    tf.keras.layers.MaxPooling2D(2, 2),\n",
    "    tf.keras.layers.Conv2D(64, (3, 3), activation='relu'),\n",
    "    tf.keras.layers.MaxPooling2D(2, 2),\n",
    "    tf.keras.layers.Conv2D(64, (3, 3), activation='relu'),\n",
    "    tf.keras.layers.MaxPooling2D(2, 2),\n",
    "\n",
    "    tf.keras.layers.Flatten(),\n",
    "    tf.keras.layers.Dense(512, activation='relu'),\n",
    "    tf.keras.layers.BatchNormalization(),\n",
    "    tf.keras.layers.Dense(512, activation='relu'),\n",
    "    tf.keras.layers.Dropout(0.1),\n",
    "    tf.keras.layers.BatchNormalization(),\n",
    "    tf.keras.layers.Dense(512, activation='relu'),\n",
    "    tf.keras.layers.Dropout(0.2),\n",
    "    tf.keras.layers.BatchNormalization(),\n",
    "    tf.keras.layers.Dense(1, activation='sigmoid')#output layer\n",
    "    #activation sigmoid is used, because we require 1 out of 2 o/p, either cats or dogs\n",
    "])\n"
   ]
  },
  {
   "cell_type": "markdown",
   "id": "9707d36c",
   "metadata": {},
   "source": [
    "Compilation and trainig"
   ]
  },
  {
   "cell_type": "code",
   "execution_count": null,
   "id": "7861a1dd",
   "metadata": {},
   "outputs": [],
   "source": [
    "model.compile(\n",
    "    loss='binary_crossentropy',\n",
    "    optimizer='adam',\n",
    "    metrics=['accuracy']\n",
    ")\n",
    "\n",
    "history = model.fit(train_datagen,\n",
    "          epochs=15,\n",
    "          validation_data=test_datagen)"
   ]
  },
  {
   "cell_type": "markdown",
   "id": "45f4aeb5",
   "metadata": {},
   "source": [
    "Prediction using external data"
   ]
  },
  {
   "cell_type": "code",
   "execution_count": null,
   "id": "d57d56fd",
   "metadata": {},
   "outputs": [],
   "source": [
    "from keras.preprocessing import image\n",
    "import numpy as np\n",
    "\n",
    "#Input image\n",
    "test_image= image.load_img('test_img2.jpeg',target_size=(200,200))\n",
    "\n",
    "#For show image\n",
    "plt.imshow(test_image)\n",
    "test_image= image.img_to_array(test_image)\n",
    "test_image= np.expand_dims(test_image,axis=0)\n",
    "\n",
    "#Result array\n",
    "result= model.predict(test_image)\n",
    "\n",
    "#Mapping the result array with the main name list\n",
    "if(result>0.5):\n",
    "    print(\"Dog\")\n",
    "else:\n",
    "    print(\"Cat\")\n"
   ]
  }
 ],
 "metadata": {
  "kernelspec": {
   "display_name": "Python 3",
   "language": "python",
   "name": "python3"
  },
  "language_info": {
   "codemirror_mode": {
    "name": "ipython",
    "version": 3
   },
   "file_extension": ".py",
   "mimetype": "text/x-python",
   "name": "python",
   "nbconvert_exporter": "python",
   "pygments_lexer": "ipython3",
   "version": "3.12.6"
  }
 },
 "nbformat": 4,
 "nbformat_minor": 5
}
